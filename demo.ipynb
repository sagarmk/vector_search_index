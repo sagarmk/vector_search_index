{
 "cells": [
  {
   "cell_type": "code",
   "execution_count": 1,
   "id": "840b3c6c-12e6-47fb-b456-7a154d5089d4",
   "metadata": {},
   "outputs": [],
   "source": [
    "import pandas as pd\n",
    "data = [['Where are your headquarters located?', 'location'],\n",
    "['Throw my cellphone in the water', 'random'],\n",
    "['Network Access Control?', 'networking'],\n",
    "['Address', 'location']]\n",
    "df = pd.DataFrame(data, columns = ['text', 'category'])\n",
    "\n",
    "\n",
    "from sentence_transformers import SentenceTransformer\n",
    "text = df['text']\n",
    "import faiss\n",
    "import numpy as np\n",
    "\n",
    "\n",
    "def generate_encodings(text_list, model_name = \"paraphrase-mpnet-base-v2\"):\n",
    "    encoder = SentenceTransformer( model_name)\n",
    "    vectors = encoder.encode(text_list)\n",
    "    return vectors\n",
    "\n",
    "def build_index(vectors):\n",
    "    vector_dimension = vectors.shape[1]\n",
    "    index = faiss.IndexFlatL2(vector_dimension)\n",
    "    faiss.normalize_L2(vectors)\n",
    "    index.add(vectors)\n",
    "    return index\n",
    "    \n",
    "\n",
    "vectors = generate_encodings( list(text))\n",
    "index = build_index(vectors)\n",
    "\n",
    "\n",
    "\n",
    "\n",
    " \n",
    "search_text = 'where is your office?'\n",
    "# search_vector = encoder.encode(search_text)\n",
    "\n",
    "search_vector = generate_encodings(search_text)\n",
    "_vector = np.array([search_vector])\n",
    "faiss.normalize_L2(_vector)\n",
    "k = index.ntotal\n",
    "distances, ann = index.search(_vector, k=k)\n",
    "\n",
    "results = pd.DataFrame({'distances': distances[0], 'ann': ann[0]})\n",
    "labels  = df['category']\n",
    "category = labels[ann[0][0]]\n",
    "merge = pd.merge(results, df, left_on='ann', right_index=True)\n",
    "\n",
    "\n",
    "print(merge['text'])"
   ]
  },
  {
   "cell_type": "code",
   "execution_count": 2,
   "id": "85f82f5e-8d68-41d2-ab74-2b6c28cccfb3",
   "metadata": {},
   "outputs": [
    {
     "data": {
      "text/html": [
       "<div>\n",
       "<style scoped>\n",
       "    .dataframe tbody tr th:only-of-type {\n",
       "        vertical-align: middle;\n",
       "    }\n",
       "\n",
       "    .dataframe tbody tr th {\n",
       "        vertical-align: top;\n",
       "    }\n",
       "\n",
       "    .dataframe thead th {\n",
       "        text-align: right;\n",
       "    }\n",
       "</style>\n",
       "<table border=\"1\" class=\"dataframe\">\n",
       "  <thead>\n",
       "    <tr style=\"text-align: right;\">\n",
       "      <th></th>\n",
       "      <th>text</th>\n",
       "      <th>category</th>\n",
       "    </tr>\n",
       "  </thead>\n",
       "  <tbody>\n",
       "    <tr>\n",
       "      <th>0</th>\n",
       "      <td>Where are your headquarters located?</td>\n",
       "      <td>location</td>\n",
       "    </tr>\n",
       "    <tr>\n",
       "      <th>1</th>\n",
       "      <td>Throw my cellphone in the water</td>\n",
       "      <td>random</td>\n",
       "    </tr>\n",
       "    <tr>\n",
       "      <th>2</th>\n",
       "      <td>Network Access Control?</td>\n",
       "      <td>networking</td>\n",
       "    </tr>\n",
       "    <tr>\n",
       "      <th>3</th>\n",
       "      <td>Address</td>\n",
       "      <td>location</td>\n",
       "    </tr>\n",
       "  </tbody>\n",
       "</table>\n",
       "</div>"
      ],
      "text/plain": [
       "                                   text    category\n",
       "0  Where are your headquarters located?    location\n",
       "1       Throw my cellphone in the water      random\n",
       "2               Network Access Control?  networking\n",
       "3                               Address    location"
      ]
     },
     "execution_count": 2,
     "metadata": {},
     "output_type": "execute_result"
    }
   ],
   "source": [
    "df"
   ]
  },
  {
   "cell_type": "code",
   "execution_count": 3,
   "id": "38b72227-c1e9-4cae-bfad-88ac072cb01e",
   "metadata": {},
   "outputs": [],
   "source": []
  },
  {
   "cell_type": "code",
   "execution_count": 4,
   "id": "6061dc0e-c789-4c83-957e-556cca5a7522",
   "metadata": {},
   "outputs": [],
   "source": [
    "vectors = generate_encodings( list(text))\n",
    "index = build_index(vectors)\n",
    "\n",
    "\n",
    "\n",
    "\n",
    " \n",
    "search_text = 'where is your office?'\n",
    "# search_vector = encoder.encode(search_text)\n",
    "\n",
    "search_vector = generate_encodings(search_text)\n",
    "_vector = np.array([search_vector])\n",
    "faiss.normalize_L2(_vector)\n",
    "k = index.ntotal\n",
    "distances, ann = index.search(_vector, k=k)\n",
    "\n",
    "results = pd.DataFrame({'distances': distances[0], 'ann': ann[0]})\n",
    "labels  = df['category']\n",
    "category = labels[ann[0][0]]\n",
    "merge = pd.merge(results, df, left_on='ann', right_index=True)\n",
    "\n",
    "\n",
    "print(merge['text'])"
   ]
  },
  {
   "cell_type": "code",
   "execution_count": 24,
   "id": "bce7ecc6-3b17-473e-b7f7-29b446859fa4",
   "metadata": {},
   "outputs": [],
   "source": [
    "\n",
    " \n",
    "search_text = 'where is your office?'\n",
    "# search_vector = encoder.encode(search_text)\n",
    "\n",
    "search_vector = generate_encodings(search_text)\n",
    "_vector = np.array([search_vector])\n",
    "faiss.normalize_L2(_vector)\n",
    "k = index.ntotal\n",
    "distances, ann = index.search(_vector, k=k)\n",
    "\n",
    "results = pd.DataFrame({'distances': distances[0], 'ann': ann[0]})\n",
    "labels  = df['category']\n",
    "category = labels[ann[0][0]]\n",
    "merge = pd.merge(results, df, left_on='ann', right_index=True)"
   ]
  },
  {
   "cell_type": "code",
   "execution_count": 25,
   "id": "6ffccda6-465e-4309-aebe-68367422da4a",
   "metadata": {},
   "outputs": [
    {
     "data": {
      "text/html": [
       "<div>\n",
       "<style scoped>\n",
       "    .dataframe tbody tr th:only-of-type {\n",
       "        vertical-align: middle;\n",
       "    }\n",
       "\n",
       "    .dataframe tbody tr th {\n",
       "        vertical-align: top;\n",
       "    }\n",
       "\n",
       "    .dataframe thead th {\n",
       "        text-align: right;\n",
       "    }\n",
       "</style>\n",
       "<table border=\"1\" class=\"dataframe\">\n",
       "  <thead>\n",
       "    <tr style=\"text-align: right;\">\n",
       "      <th></th>\n",
       "      <th>distances</th>\n",
       "      <th>ann</th>\n",
       "      <th>text</th>\n",
       "      <th>category</th>\n",
       "    </tr>\n",
       "  </thead>\n",
       "  <tbody>\n",
       "    <tr>\n",
       "      <th>0</th>\n",
       "      <td>0.584872</td>\n",
       "      <td>0</td>\n",
       "      <td>Where are your headquarters located?</td>\n",
       "      <td>location</td>\n",
       "    </tr>\n",
       "    <tr>\n",
       "      <th>1</th>\n",
       "      <td>1.175950</td>\n",
       "      <td>3</td>\n",
       "      <td>Address</td>\n",
       "      <td>location</td>\n",
       "    </tr>\n",
       "    <tr>\n",
       "      <th>2</th>\n",
       "      <td>1.644265</td>\n",
       "      <td>2</td>\n",
       "      <td>Network Access Control?</td>\n",
       "      <td>networking</td>\n",
       "    </tr>\n",
       "    <tr>\n",
       "      <th>3</th>\n",
       "      <td>1.919767</td>\n",
       "      <td>1</td>\n",
       "      <td>Throw my cellphone in the water</td>\n",
       "      <td>random</td>\n",
       "    </tr>\n",
       "  </tbody>\n",
       "</table>\n",
       "</div>"
      ],
      "text/plain": [
       "   distances  ann                                  text    category\n",
       "0   0.584872    0  Where are your headquarters located?    location\n",
       "1   1.175950    3                               Address    location\n",
       "2   1.644265    2               Network Access Control?  networking\n",
       "3   1.919767    1       Throw my cellphone in the water      random"
      ]
     },
     "execution_count": 25,
     "metadata": {},
     "output_type": "execute_result"
    }
   ],
   "source": [
    "merge"
   ]
  },
  {
   "cell_type": "code",
   "execution_count": 4,
   "id": "24faa336-dff3-4170-b400-f837354da985",
   "metadata": {},
   "outputs": [
    {
     "name": "stdout",
     "output_type": "stream",
     "text": [
      "0    Where are your headquarters located?\n",
      "1                                 Address\n",
      "2                 Network Access Control?\n",
      "3         Throw my cellphone in the water\n",
      "Name: text, dtype: object\n"
     ]
    }
   ],
   "source": [
    "import pandas as pd\n",
    "import faiss\n",
    "import numpy as np\n",
    "from sentence_transformers import SentenceTransformer\n",
    "\n",
    "class TextIndexer:\n",
    "    def __init__(self, data, model_name=\"paraphrase-mpnet-base-v2\"):\n",
    "        self.data = pd.DataFrame(data, columns=['text', 'category'])\n",
    "        self.encoder = SentenceTransformer(model_name)\n",
    "        self.index = None\n",
    "        \n",
    "    def generate_encodings(self, text_list):\n",
    "        vectors = self.encoder.encode(text_list)\n",
    "        return vectors\n",
    "    \n",
    "    def build_index(self):\n",
    "        vectors = self.generate_encodings(self.data['text'])\n",
    "        vector_dimension = vectors.shape[1]\n",
    "        self.index = faiss.IndexFlatL2(vector_dimension)\n",
    "        faiss.normalize_L2(vectors)\n",
    "        self.index.add(vectors)\n",
    "        \n",
    "    def save_index(self, file_path):\n",
    "        faiss.write_index(self.index, file_path)\n",
    "        \n",
    "    def load_index(self, file_path):\n",
    "        self.index = faiss.read_index(file_path)\n",
    "        \n",
    "    def search(self, search_text, top_k=None):\n",
    "        search_vector = self.generate_encodings([search_text])\n",
    "        _vector = np.array(search_vector)\n",
    "        faiss.normalize_L2(_vector)\n",
    "        k = self.index.ntotal if top_k is None else top_k\n",
    "        distances, ann = self.index.search(_vector, k)\n",
    "        \n",
    "        results = pd.DataFrame({'distances': distances[0], 'ann': ann[0]})\n",
    "        merge = pd.merge(results, self.data, left_on='ann', right_index=True)\n",
    "        \n",
    "        return merge['text']\n",
    "    \n",
    "# Usage:\n",
    "data = [\n",
    "    ['Where are your headquarters located?', 'location'],\n",
    "    ['Throw my cellphone in the water', 'random'],\n",
    "    ['Network Access Control?', 'networking'],\n",
    "    ['Address', 'location']\n",
    "]\n",
    "\n",
    "# text_indexer = TextIndexer(data)\n",
    "# text_indexer.build_index()\n",
    "# text_indexer.save_index('text_index.faiss')\n",
    "\n",
    "# Load the index from file and perform a search\n",
    "text_indexer.load_index('text_index.faiss')\n",
    "search_text = 'where is your office?'\n",
    "matching_texts = text_indexer.search(search_text)\n",
    "print(matching_texts)\n"
   ]
  },
  {
   "cell_type": "code",
   "execution_count": 31,
   "id": "f493dbdd-1375-42c2-92ce-ec7ad47e7522",
   "metadata": {},
   "outputs": [],
   "source": [
    "import os\n",
    "import json\n",
    "import faiss\n",
    "import numpy as np\n",
    "from sentence_transformers import SentenceTransformer\n",
    "\n",
    "class TextIndexer:\n",
    "    def __init__(self, data=None, model_name=\"paraphrase-mpnet-base-v2\"):\n",
    "        self.data = data or []  # list of strings\n",
    "        self.encoder = SentenceTransformer(model_name)\n",
    "        self.index = None\n",
    "        \n",
    "    def generate_encodings(self, text_list):\n",
    "        vectors = self.encoder.encode(text_list)\n",
    "        return vectors\n",
    "    \n",
    "    def build_index(self):\n",
    "        vectors = self.generate_encodings(self.data)\n",
    "        vector_dimension = vectors.shape[1]\n",
    "        self.index = faiss.IndexFlatL2(vector_dimension)\n",
    "        faiss.normalize_L2(vectors)\n",
    "        self.index.add(vectors)\n",
    "        \n",
    "    def save_index(self, file_path):\n",
    "        faiss.write_index(self.index, file_path)\n",
    "        # Also save the original text data\n",
    "        data_file_path = file_path + '_paragraphs.json'\n",
    "        with open(data_file_path, 'w') as f:\n",
    "            json.dump(self.data, f)\n",
    "        \n",
    "    def load_index(self, file_path):\n",
    "        self.index = faiss.read_index(file_path)\n",
    "        # Load the original text data\n",
    "        data_file_path = file_path + '_paragraphs.json'\n",
    "        if os.path.exists(data_file_path):\n",
    "            with open(data_file_path, 'r') as f:\n",
    "                self.data = json.load(f)\n",
    "        else:\n",
    "            print(f\"No data file found at {data_file_path}. Cannot query by text.\")\n",
    "    \n",
    "    def search(self, search_text, top_k=2):\n",
    "        search_vector = self.generate_encodings([search_text])\n",
    "        faiss.normalize_L2(search_vector)\n",
    "        k = self.index.ntotal if top_k is None else top_k\n",
    "        distances, indices = self.index.search(search_vector, k)\n",
    "        # Ensure indices are within bounds\n",
    "        assert all(0 <= i < len(self.data) for i in indices[0]), f\"Invalid indices: {indices}\"\n",
    "        # Return the text corresponding to the indices\n",
    "        return [self.data[i] for i in indices[0]]\n"
   ]
  },
  {
   "cell_type": "code",
   "execution_count": 32,
   "id": "70768bdb-ebf5-401d-ab99-06f9285b682f",
   "metadata": {},
   "outputs": [],
   "source": [
    "siren = TextIndexer()"
   ]
  },
  {
   "cell_type": "code",
   "execution_count": 33,
   "id": "e41dbd7a-9b02-4f68-b1f7-4b49778cf173",
   "metadata": {},
   "outputs": [
    {
     "data": {
      "text/plain": [
       "[]"
      ]
     },
     "execution_count": 33,
     "metadata": {},
     "output_type": "execute_result"
    }
   ],
   "source": [
    "siren.data"
   ]
  },
  {
   "cell_type": "code",
   "execution_count": 34,
   "id": "1657acb2-33b2-46c8-8953-b53dcf555837",
   "metadata": {},
   "outputs": [],
   "source": [
    "siren.load_index(\"tmp.index.index\")"
   ]
  },
  {
   "cell_type": "code",
   "execution_count": 35,
   "id": "f5205065-f36f-407a-a92e-79e05fbe155b",
   "metadata": {},
   "outputs": [
    {
     "data": {
      "text/plain": [
       "['Many poll respondents also said that they would not participate in a\\nprogram requiring a new identification card for cross-border travel',\n",
       " \"-  A majority of the poll's respondents said that they supported an enhanced driver's license\\nthat could combine a normal license with a border crossing ID card, and that such a document\\nwould increase the likelihood that they would continue to cross the border\"]"
      ]
     },
     "execution_count": 35,
     "metadata": {},
     "output_type": "execute_result"
    }
   ],
   "source": [
    "siren.search(\"study\")"
   ]
  },
  {
   "cell_type": "code",
   "execution_count": null,
   "id": "3d221258-703a-489c-8206-40346a86bcb0",
   "metadata": {},
   "outputs": [],
   "source": []
  }
 ],
 "metadata": {
  "kernelspec": {
   "display_name": "Python 3 (ipykernel)",
   "language": "python",
   "name": "python3"
  },
  "language_info": {
   "codemirror_mode": {
    "name": "ipython",
    "version": 3
   },
   "file_extension": ".py",
   "mimetype": "text/x-python",
   "name": "python",
   "nbconvert_exporter": "python",
   "pygments_lexer": "ipython3",
   "version": "3.10.9"
  }
 },
 "nbformat": 4,
 "nbformat_minor": 5
}
